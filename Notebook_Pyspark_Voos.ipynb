{
 "cells": [
  {
   "cell_type": "markdown",
   "id": "78acc168",
   "metadata": {},
   "source": [
    "# Analise de Vôos"
   ]
  },
  {
   "cell_type": "markdown",
   "id": "eaf49eb9",
   "metadata": {},
   "source": [
    "Este notebook tem o objetivo de fazer uma análise exploratoria inicial do arquivo flights-larger.csv a fim de executar algumas transformações para responder algumas perguntas de negócio e desenvolver algumas linhas de análise.\n",
    "\n",
    "O Spark é uma das tecnologias mais populares e fáceis para processar grandes volumes de dados. Além disso, é fácil para os iniciantes trabalharem com o Spark em comparação com outras tecnologias de computação distribuída. Então, usando a linguagem Pyspark, uma interface Python para Spark, interagiremos com o Spark."
   ]
  },
  {
   "cell_type": "markdown",
   "id": "17b8bd00",
   "metadata": {},
   "source": [
    "## Primeiro passo\n",
    "Primeiramente, no prompt de comando da minha máquina Windows host do projeto, digito o comando ***pyspark*** para que o mesmo já abra o jupyter e crie uma Spark Session automaticamente para meu projeto."
   ]
  },
  {
   "cell_type": "code",
   "execution_count": null,
   "id": "774dcc82",
   "metadata": {},
   "outputs": [],
   "source": []
  }
 ],
 "metadata": {
  "kernelspec": {
   "display_name": "Python 3 (ipykernel)",
   "language": "python",
   "name": "python3"
  },
  "language_info": {
   "codemirror_mode": {
    "name": "ipython",
    "version": 3
   },
   "file_extension": ".py",
   "mimetype": "text/x-python",
   "name": "python",
   "nbconvert_exporter": "python",
   "pygments_lexer": "ipython3",
   "version": "3.9.13"
  }
 },
 "nbformat": 4,
 "nbformat_minor": 5
}
